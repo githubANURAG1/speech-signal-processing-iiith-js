{
 "cells": [
  {
   "cell_type": "code",
   "execution_count": 7,
   "metadata": {},
   "outputs": [],
   "source": [
    "import librosa\n",
    "import matplotlib.pyplot as plt\n",
    "import scipy\n",
    "import numpy as np\n",
    "from bokeh.plotting import figure, output_file, show"
   ]
  },
  {
   "cell_type": "code",
   "execution_count": 31,
   "metadata": {},
   "outputs": [],
   "source": [
    "def plotGraphs(audioFile):\n",
    "    y, sr=librosa.load('wav/'+audioFile+'.wav')\n",
    "    lp_result = librosa.lpc(y,10)\n",
    "    y_result = scipy.signal.lfilter([0] + -1*lp_result[1:], [1], y)\n",
    "    p = figure(plot_width=600, plot_height=300, x_axis_label='Time', y_axis_label=\"dB\", title='Excitation')\n",
    "    p.line(range(len(y)),y_result, line_width=2)\n",
    "    save(p, filename='graphs/'+audioFile+'exc.html')\n",
    "    intensity = [i*i for i in y]\n",
    "    p = figure(plot_width=600, plot_height=300, x_axis_label='Time', y_axis_label=\"Amplitude\", title='Log Energy')\n",
    "    p.line(range(len(y)),np.log10(intensity), line_width=2)\n",
    "    save(p, filename='graphs/'+audioFile+'log_energy.html')\n",
    "    pitch=[]\n",
    "    pitches, magnitudes = librosa.piptrack(y)\n",
    "    for t in range(1,int(len(magnitudes[0]))):\n",
    "        pitch.append(np.max(pitches[:,t]))\n",
    "    p = figure(plot_width=600, plot_height=300, title='Pitch Contour')\n",
    "    p.line(range(len(pitch)),pitch, line_width=2)\n",
    "    save(p, filename='graphs/'+audioFile+'pitch.html')\n",
    "\n",
    "    "
   ]
  },
  {
   "cell_type": "code",
   "execution_count": 34,
   "metadata": {
    "scrolled": true
   },
   "outputs": [
    {
     "name": "stderr",
     "output_type": "stream",
     "text": [
      "/home/shubhangi/.local/lib/python3.6/site-packages/ipykernel_launcher.py:10: RuntimeWarning: divide by zero encountered in log10\n",
      "  # Remove the CWD from sys.path while we load stuff.\n",
      "/home/shubhangi/.local/lib/python3.6/site-packages/ipykernel_launcher.py:10: RuntimeWarning: divide by zero encountered in log10\n",
      "  # Remove the CWD from sys.path while we load stuff.\n",
      "/home/shubhangi/.local/lib/python3.6/site-packages/ipykernel_launcher.py:10: RuntimeWarning: divide by zero encountered in log10\n",
      "  # Remove the CWD from sys.path while we load stuff.\n",
      "/home/shubhangi/.local/lib/python3.6/site-packages/ipykernel_launcher.py:10: RuntimeWarning: divide by zero encountered in log10\n",
      "  # Remove the CWD from sys.path while we load stuff.\n"
     ]
    }
   ],
   "source": [
    "for i in range(1,5):\n",
    "    plotGraphs('audio'+str(i))\n"
   ]
  },
  {
   "cell_type": "code",
   "execution_count": null,
   "metadata": {
    "scrolled": true
   },
   "outputs": [],
   "source": []
  },
  {
   "cell_type": "code",
   "execution_count": 11,
   "metadata": {},
   "outputs": [],
   "source": []
  },
  {
   "cell_type": "code",
   "execution_count": null,
   "metadata": {},
   "outputs": [],
   "source": [
    "\n"
   ]
  },
  {
   "cell_type": "code",
   "execution_count": null,
   "metadata": {},
   "outputs": [],
   "source": []
  },
  {
   "cell_type": "code",
   "execution_count": null,
   "metadata": {},
   "outputs": [],
   "source": []
  },
  {
   "cell_type": "code",
   "execution_count": null,
   "metadata": {},
   "outputs": [],
   "source": []
  }
 ],
 "metadata": {
  "kernelspec": {
   "display_name": "Python 3",
   "language": "python",
   "name": "python3"
  },
  "language_info": {
   "codemirror_mode": {
    "name": "ipython",
    "version": 3
   },
   "file_extension": ".py",
   "mimetype": "text/x-python",
   "name": "python",
   "nbconvert_exporter": "python",
   "pygments_lexer": "ipython3",
   "version": "3.6.8"
  }
 },
 "nbformat": 4,
 "nbformat_minor": 2
}
