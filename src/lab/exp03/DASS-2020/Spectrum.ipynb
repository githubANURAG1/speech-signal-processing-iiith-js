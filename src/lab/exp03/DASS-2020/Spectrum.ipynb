{
 "cells": [
  {
   "cell_type": "code",
   "execution_count": 2,
   "metadata": {},
   "outputs": [],
   "source": [
    "import librosa\n",
    "import math\n",
    "import scipy\n",
    "import matplotlib.pyplot as plt\n",
    "import wave\n",
    "import numpy\n",
    "import sys\n",
    "from scipy.signal import lfilter, hamming\n",
    "from flask import Flask, render_template, Response, send_file\n",
    "from scipy.io import wavfile\n",
    "import matplotlib.pyplot as plt\n",
    "import io\n",
    "from matplotlib.backends.backend_agg import FigureCanvasAgg as FigureCanvas\n",
    "from os import path\n",
    "from time import sleep\n"
   ]
  },
  {
   "cell_type": "code",
   "execution_count": 3,
   "metadata": {},
   "outputs": [],
   "source": [
    "app = Flask(__name__)\n",
    "\n",
    "@app.route('/objective')\n",
    "def Objectives():\n",
    "    return render_template('Objective.html')\n",
    "\n",
    "@app.route('/procedure')\n",
    "def Procedure():\n",
    "    return render_template('Procedure.html')\n",
    "\n",
    "\n",
    "@app.route('/experiment')\n",
    "def Experiment():\n",
    "    return render_template('Experiment.html')\n",
    "\n",
    "\n",
    "@app.route('/observations')\n",
    "def Observations():\n",
    "    return render_template('Observations.html')\n",
    "\n",
    "\n",
    "@app.route('/references')\n",
    "def References():\n",
    "    return render_template('References.html')\n",
    "\n",
    "\n",
    "@app.route('/feedback')\n",
    "def Feedback():\n",
    "    return render_template('Feedback.html')\n",
    "\n",
    "@app.route('/tutorial')\n",
    "def Tutorial():\n",
    "    return render_template('Tutorial.html')\n",
    "\n",
    "@app.route('/assessment')\n",
    "def Assesment():\n",
    "    return render_template('Assessment.html')\n",
    "\n",
    "@app.route('/windowed/<file>/<type>')\n",
    "def windowed_waveform(type, file):\n",
    "    sleep(2)\n",
    "    if(path.exists('static/images/windowed-'+type+'-wav'+file+'.png') is False) :\n",
    "        fig = create_window_plot(type, file)\n",
    "\n",
    "    return send_file('static/images/windowed-'+type+'-wav'+file+'.png', mimetype='image/gif')\n",
    "\n",
    "@app.route('/stft/<file>/<nfft>')\n",
    "def log_spectrum(file,nfft):\n",
    "    sleep(2)\n",
    "    if(path.exists('static/images/stft-wav'+file+'-nfft'+nfft+'.png') is False):\n",
    "        fig = create_stft(file,nfft)\n",
    "\n",
    "    return send_file('static/images/stft-wav'+file+'-nfft'+nfft+'.png', mimetype='image/gif')\n",
    "\n",
    "\n"
   ]
  },
  {
   "cell_type": "code",
   "execution_count": 12,
   "metadata": {},
   "outputs": [],
   "source": [
    "audioFile = \"ex1\""
   ]
  },
  {
   "cell_type": "code",
   "execution_count": 17,
   "metadata": {},
   "outputs": [],
   "source": [
    "def createSpectAutoCorr(audioFile):\n",
    "    y, sr = librosa.load(\"wav/\"+audioFile+\".wav\")\n",
    "    plt.plot(y)\n",
    "    plt.savefig('static/images/'+audioFile+'.png')\n",
    "    plt.close()\n",
    "    autoCorr = librosa.autocorrelate(y)\n",
    "    plt.yscale(\"log\")\n",
    "    plt.plot(autoCorr)\n",
    "    plt.savefig('static/images/'+audioFile+'AutoCorr.png')\n",
    "    plt.close()\n",
    "    return plt"
   ]
  },
  {
   "cell_type": "code",
   "execution_count": null,
   "metadata": {},
   "outputs": [],
   "source": [
    "lpc= librosa.lpc(y,10)\n",
    "plt.plot(lpc)"
   ]
  },
  {
   "cell_type": "code",
   "execution_count": null,
   "metadata": {},
   "outputs": [],
   "source": [
    "fmin = 5\n",
    "fmax= 20000\n",
    "i_min = sr/fmax\n",
    "i_max = sr/fmin\n",
    "autoCorr[:int(i_min)] = 0\n",
    "autoCorr[int(i_max):] = 0\n",
    "i = autoCorr.argmax()\n",
    "f0 = float(sr)/i\n",
    "print(f0)"
   ]
  },
  {
   "cell_type": "code",
   "execution_count": null,
   "metadata": {},
   "outputs": [],
   "source": []
  },
  {
   "cell_type": "code",
   "execution_count": null,
   "metadata": {},
   "outputs": [],
   "source": [
    "spf = wave.open(audioFile, 'r') \n",
    "x = spf.readframes(-1)\n",
    "x = numpy.fromstring(x, 'Int16')\n",
    "\n",
    "N = len(x)\n",
    "w = numpy.hamming(N)\n",
    "\n",
    "x1 = x * w\n",
    "x1 = lfilter([1], [1., 0.63], x1)\n",
    "\n",
    "rts = numpy.roots(lpc)\n",
    "rts = [r for r in rts if numpy.imag(r) >= 0]\n",
    "\n",
    "angz = numpy.arctan2(numpy.imag(rts), numpy.real(rts))\n",
    "\n",
    "Fs = spf.getframerate()\n",
    "frqs = sorted(angz * (Fs / (2 * math.pi)))\n",
    "\n",
    "\n",
    "print(frqs)"
   ]
  },
  {
   "cell_type": "code",
   "execution_count": null,
   "metadata": {},
   "outputs": [],
   "source": [
    "def create_stft(file, nfft):\n",
    "    file = str(file)\n",
    "    audio, sample_rate = librosa.load('static/wav/audio'+file+'.wav')\n",
    "    output = np.abs(librosa.stft(audio, n_fft=int(nfft)))\n",
    "    output = librosa.amplitude_to_db(output)\n",
    "    plt.figure(figsize=(5, 2))\n",
    "    plt.plot(output)\n",
    "    plt.grid(color='grey', linestyle='--', linewidth=0.5)\n",
    "    plt.savefig('static/images/stft-wav'+file+'-nfft'+str(nfft)+'.png')\n",
    "    plt.close()\n",
    "    return plt\n",
    "\n",
    "if __name__ == '__main__':\n",
    "    type = ['rectangular','hamming','hann','cosine']\n",
    "\n",
    "    for file in range(1,3):\n",
    "        for option in type:\n",
    "            create_window_plot(option,file)\n",
    "\n",
    "    nfft_values = [64,128,256,512,1024,2048, 4096,8192]\n",
    "\n",
    "    for file in range(1,3):\n",
    "        for nfft in nfft_values:\n",
    "            create_stft(file, nfft)\n",
    "\n",
    "    app.run()"
   ]
  }
 ],
 "metadata": {
  "kernelspec": {
   "display_name": "Python 3",
   "language": "python",
   "name": "python3"
  },
  "language_info": {
   "codemirror_mode": {
    "name": "ipython",
    "version": 3
   },
   "file_extension": ".py",
   "mimetype": "text/x-python",
   "name": "python",
   "nbconvert_exporter": "python",
   "pygments_lexer": "ipython3",
   "version": "3.6.8"
  }
 },
 "nbformat": 4,
 "nbformat_minor": 2
}
